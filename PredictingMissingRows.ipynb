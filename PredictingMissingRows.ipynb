{
 "cells": [
  {
   "cell_type": "markdown",
   "id": "9f764763-c556-4488-a39b-875934f32af8",
   "metadata": {},
   "source": [
    "## Load Libraries"
   ]
  },
  {
   "cell_type": "code",
   "execution_count": 1,
   "id": "2338ebc3-b214-4300-b5fc-c10bc2deae03",
   "metadata": {},
   "outputs": [
    {
     "name": "stderr",
     "output_type": "stream",
     "text": [
      "WARNING (aesara.tensor.blas): Using NumPy C-API based implementation for BLAS functions.\n"
     ]
    }
   ],
   "source": [
    "import numpy as np\n",
    "import pandas as pd\n",
    "import pymc as pm\n",
    "import arviz as az\n",
    "import xarray as xr\n",
    "import matplotlib.pyplot as plt\n",
    "import aesara as at\n",
    "\n",
    "from sklearn.preprocessing import MinMaxScaler, OrdinalEncoder, StandardScaler, RobustScaler\n",
    "# from sklearn.pipeline import Pipeline, FeatureUnion\n",
    "# from sklearn.compose import ColumnTransformer\n",
    "\n",
    "RANDOM_SEED = 100\n",
    "np.random.seed(RANDOM_SEED)\n",
    "az.style.use(\"arviz-darkgrid\")"
   ]
  },
  {
   "cell_type": "markdown",
   "id": "eea3c700-ab87-4dea-9dec-e309d85a7d0c",
   "metadata": {},
   "source": [
    "## Load Data"
   ]
  },
  {
   "cell_type": "code",
   "execution_count": 3,
   "id": "a188d52f-a4f4-4347-b141-546521031770",
   "metadata": {},
   "outputs": [
    {
     "name": "stdout",
     "output_type": "stream",
     "text": [
      "No. of records for train : (617, 58)\n",
      "No. of records for test : (5, 57)\n",
      "No. of records for greeks : (617, 6)\n"
     ]
    }
   ],
   "source": [
    "df_train = pd.read_csv(r\"C:\\Users\\HG749BX\\OneDrive - EY\\Documents\\Python\\age-related-conditions\\train.csv\")\n",
    "df_test = pd.read_csv(r\"C:\\Users\\HG749BX\\OneDrive - EY\\Documents\\Python\\age-related-conditions\\test.csv\")\n",
    "df_greeks = pd.read_csv(r\"C:\\Users\\HG749BX\\OneDrive - EY\\Documents\\Python\\age-related-conditions\\greeks.csv\")\n",
    "\n",
    "print('No. of records for train : {}'.format(df_train.shape))\n",
    "print('No. of records for test : {}'.format(df_test.shape))\n",
    "print('No. of records for greeks : {}'.format(df_greeks.shape))"
   ]
  },
  {
   "cell_type": "markdown",
   "id": "b55b9d48-3652-43cb-a35e-902e93de5741",
   "metadata": {},
   "source": [
    "## Partition \n",
    "The goal is to select all rows of the offending column which are NaN and then predict them using the corresponding rows of the other columns"
   ]
  },
  {
   "cell_type": "markdown",
   "id": "cdfa000c-bf8f-4e23-ac8c-bd3c9c66ab20",
   "metadata": {},
   "source": [
    "## Scale"
   ]
  },
  {
   "cell_type": "code",
   "execution_count": 27,
   "id": "acd781d5-073d-4333-9d01-10e038cf0812",
   "metadata": {},
   "outputs": [],
   "source": [
    "def split_by_nan(df,c):\n",
    "    # drop columns\n",
    "    df = df_train.drop(['Id','EJ','Class'],axis=1).copy()\n",
    "    if c == 'BQ':\n",
    "        df = df.drop(['EL'], axis=1).copy()\n",
    "    elif c== 'EL':\n",
    "        df = df.drop(['BQ'], axis=1).copy()\n",
    "    # subselect\n",
    "    nan_data = df[ df[c].isna() ].copy()\n",
    "    non_nan_data = df[ ~df[c].isna() ].copy()\n",
    "    # return\n",
    "    return nan_data, non_nan_data"
   ]
  },
  {
   "cell_type": "code",
   "execution_count": 49,
   "id": "09365415-5ae1-4702-9832-2168e2f772dd",
   "metadata": {},
   "outputs": [],
   "source": [
    "# focus on the numerical values for now, try fitting model\n",
    "fill_data, train_data = split_by_nan(df_train, 'BQ')\n",
    "\n",
    "target = train_data['BQ'].to_numpy()\n",
    "train_data = train_data.drop('BQ', axis=1).copy()\n",
    "\n",
    "mms = RobustScaler().fit_transform(train_data)"
   ]
  },
  {
   "cell_type": "markdown",
   "id": "29dde1c4-56eb-4626-b1fe-aaafe34a1531",
   "metadata": {},
   "source": [
    "## Mask"
   ]
  },
  {
   "cell_type": "code",
   "execution_count": 50,
   "id": "de8a6bd9-33bd-492c-a0ed-ed1f0d51c35e",
   "metadata": {},
   "outputs": [],
   "source": [
    "x_missing = np.isnan(mms)\n",
    "X_train = np.ma.masked_array(mms, mask=x_missing)\n",
    "missing_shape = np.shape(x_missing)\n",
    "col_shape = np.shape(mms)[1]"
   ]
  },
  {
   "cell_type": "markdown",
   "id": "cd52e100-8656-4e27-add9-5ce25aa65b1c",
   "metadata": {},
   "source": [
    "## Model\n",
    "Maybe I am doing this slightly wrong?\n",
    "https://discourse.pymc.io/t/missing-data-imputation-obscurities/8617"
   ]
  },
  {
   "cell_type": "code",
   "execution_count": 55,
   "id": "e8679269-5992-412c-986b-5c9429135726",
   "metadata": {},
   "outputs": [],
   "source": [
    "with pm.Model() as walle: \n",
    "    # use Mutable Data maybe\n",
    "    y = pm.MutableData(\"y\", target)\n",
    "    data = pm.MutableData(\"data\", X_train)\n",
    "    # impute\n",
    "    μMask = pm.Normal(\"μMask\", mu=0, sigma=10, shape=(col_shape,))\n",
    "    μ = pm.Normal(\"μ\", mu=μMask, sigma=10, shape=(col_shape,))\n",
    "    ϵ = pm.Normal(\"ϵ\", mu=0, sigma=10)\n",
    "    # response\n",
    "    response = pm.Normal(\"response\", mu=pm.math.dot(data, μ) + ϵ, sigma=10, observed=y)"
   ]
  },
  {
   "cell_type": "code",
   "execution_count": 56,
   "id": "c7b6b869-9882-44c4-9e5e-5a9224c50cc9",
   "metadata": {},
   "outputs": [
    {
     "data": {
      "image/svg+xml": [
       "<?xml version=\"1.0\" encoding=\"UTF-8\" standalone=\"no\"?>\n",
       "<!DOCTYPE svg PUBLIC \"-//W3C//DTD SVG 1.1//EN\"\n",
       " \"http://www.w3.org/Graphics/SVG/1.1/DTD/svg11.dtd\">\n",
       "<!-- Generated by graphviz version 2.50.0 (0)\n",
       " -->\n",
       "<!-- Pages: 1 -->\n",
       "<svg width=\"321pt\" height=\"349pt\"\n",
       " viewBox=\"0.00 0.00 320.72 348.91\" xmlns=\"http://www.w3.org/2000/svg\" xmlns:xlink=\"http://www.w3.org/1999/xlink\">\n",
       "<g id=\"graph0\" class=\"graph\" transform=\"scale(1 1) rotate(0) translate(4 344.91)\">\n",
       "<polygon fill=\"white\" stroke=\"transparent\" points=\"-4,4 -4,-344.91 316.72,-344.91 316.72,4 -4,4\"/>\n",
       "<g id=\"clust2\" class=\"cluster\">\n",
       "<title>cluster557 x 53</title>\n",
       "<path fill=\"none\" stroke=\"black\" d=\"M20,-229.93C20,-229.93 100,-229.93 100,-229.93 106,-229.93 112,-235.93 112,-241.93 112,-241.93 112,-309.93 112,-309.93 112,-315.93 106,-321.93 100,-321.93 100,-321.93 20,-321.93 20,-321.93 14,-321.93 8,-315.93 8,-309.93 8,-309.93 8,-241.93 8,-241.93 8,-235.93 14,-229.93 20,-229.93\"/>\n",
       "<text text-anchor=\"middle\" x=\"79.5\" y=\"-237.73\" font-family=\"Times New Roman,serif\" font-size=\"14.00\">557 x 53</text>\n",
       "</g>\n",
       "<g id=\"clust1\" class=\"cluster\">\n",
       "<title>cluster557</title>\n",
       "<path fill=\"none\" stroke=\"black\" d=\"M129,-8C129,-8 211,-8 211,-8 217,-8 223,-14 223,-20 223,-20 223,-198.95 223,-198.95 223,-204.95 217,-210.95 211,-210.95 211,-210.95 129,-210.95 129,-210.95 123,-210.95 117,-204.95 117,-198.95 117,-198.95 117,-20 117,-20 117,-14 123,-8 129,-8\"/>\n",
       "<text text-anchor=\"middle\" x=\"204.5\" y=\"-15.8\" font-family=\"Times New Roman,serif\" font-size=\"14.00\">557</text>\n",
       "</g>\n",
       "<g id=\"clust3\" class=\"cluster\">\n",
       "<title>cluster53</title>\n",
       "<path fill=\"none\" stroke=\"black\" d=\"M132,-218.95C132,-218.95 208,-218.95 208,-218.95 214,-218.95 220,-224.95 220,-230.95 220,-230.95 220,-320.91 220,-320.91 220,-326.91 214,-332.91 208,-332.91 208,-332.91 132,-332.91 132,-332.91 126,-332.91 120,-326.91 120,-320.91 120,-320.91 120,-230.95 120,-230.95 120,-224.95 126,-218.95 132,-218.95\"/>\n",
       "<text text-anchor=\"middle\" x=\"205\" y=\"-226.75\" font-family=\"Times New Roman,serif\" font-size=\"14.00\">53</text>\n",
       "</g>\n",
       "<!-- response -->\n",
       "<g id=\"node1\" class=\"node\">\n",
       "<title>response</title>\n",
       "<ellipse fill=\"lightgrey\" stroke=\"black\" cx=\"170\" cy=\"-165.48\" rx=\"45.01\" ry=\"37.45\"/>\n",
       "<text text-anchor=\"middle\" x=\"170\" y=\"-176.78\" font-family=\"Times New Roman,serif\" font-size=\"14.00\">response</text>\n",
       "<text text-anchor=\"middle\" x=\"170\" y=\"-161.78\" font-family=\"Times New Roman,serif\" font-size=\"14.00\">~</text>\n",
       "<text text-anchor=\"middle\" x=\"170\" y=\"-146.78\" font-family=\"Times New Roman,serif\" font-size=\"14.00\">Normal</text>\n",
       "</g>\n",
       "<!-- y -->\n",
       "<g id=\"node2\" class=\"node\">\n",
       "<title>y</title>\n",
       "<path fill=\"lightgrey\" stroke=\"black\" d=\"M202,-92C202,-92 138,-92 138,-92 132,-92 126,-86 126,-80 126,-80 126,-51 126,-51 126,-45 132,-39 138,-39 138,-39 202,-39 202,-39 208,-39 214,-45 214,-51 214,-51 214,-80 214,-80 214,-86 208,-92 202,-92\"/>\n",
       "<text text-anchor=\"middle\" x=\"170\" y=\"-76.8\" font-family=\"Times New Roman,serif\" font-size=\"14.00\">y</text>\n",
       "<text text-anchor=\"middle\" x=\"170\" y=\"-61.8\" font-family=\"Times New Roman,serif\" font-size=\"14.00\">~</text>\n",
       "<text text-anchor=\"middle\" x=\"170\" y=\"-46.8\" font-family=\"Times New Roman,serif\" font-size=\"14.00\">MutableData</text>\n",
       "</g>\n",
       "<!-- response&#45;&gt;y -->\n",
       "<g id=\"edge1\" class=\"edge\">\n",
       "<title>response&#45;&gt;y</title>\n",
       "<path fill=\"none\" stroke=\"black\" d=\"M170,-127.99C170,-119.58 170,-110.63 170,-102.25\"/>\n",
       "<polygon fill=\"black\" stroke=\"black\" points=\"173.5,-102.01 170,-92.01 166.5,-102.01 173.5,-102.01\"/>\n",
       "</g>\n",
       "<!-- data -->\n",
       "<g id=\"node3\" class=\"node\">\n",
       "<title>data</title>\n",
       "<path fill=\"lightgrey\" stroke=\"black\" d=\"M92,-313.93C92,-313.93 28,-313.93 28,-313.93 22,-313.93 16,-307.93 16,-301.93 16,-301.93 16,-272.93 16,-272.93 16,-266.93 22,-260.93 28,-260.93 28,-260.93 92,-260.93 92,-260.93 98,-260.93 104,-266.93 104,-272.93 104,-272.93 104,-301.93 104,-301.93 104,-307.93 98,-313.93 92,-313.93\"/>\n",
       "<text text-anchor=\"middle\" x=\"60\" y=\"-298.73\" font-family=\"Times New Roman,serif\" font-size=\"14.00\">data</text>\n",
       "<text text-anchor=\"middle\" x=\"60\" y=\"-283.73\" font-family=\"Times New Roman,serif\" font-size=\"14.00\">~</text>\n",
       "<text text-anchor=\"middle\" x=\"60\" y=\"-268.73\" font-family=\"Times New Roman,serif\" font-size=\"14.00\">MutableData</text>\n",
       "</g>\n",
       "<!-- data&#45;&gt;response -->\n",
       "<g id=\"edge3\" class=\"edge\">\n",
       "<title>data&#45;&gt;response</title>\n",
       "<path fill=\"none\" stroke=\"black\" d=\"M80.12,-260.89C90.52,-248.03 103.6,-232.37 116,-218.95 121.43,-213.08 127.35,-207.02 133.21,-201.19\"/>\n",
       "<polygon fill=\"black\" stroke=\"black\" points=\"135.88,-203.48 140.57,-193.97 130.98,-198.48 135.88,-203.48\"/>\n",
       "</g>\n",
       "<!-- μ -->\n",
       "<g id=\"node4\" class=\"node\">\n",
       "<title>μ</title>\n",
       "<ellipse fill=\"none\" stroke=\"black\" cx=\"170\" cy=\"-287.43\" rx=\"41.94\" ry=\"37.45\"/>\n",
       "<text text-anchor=\"middle\" x=\"170\" y=\"-298.73\" font-family=\"Times New Roman,serif\" font-size=\"14.00\">μ</text>\n",
       "<text text-anchor=\"middle\" x=\"170\" y=\"-283.73\" font-family=\"Times New Roman,serif\" font-size=\"14.00\">~</text>\n",
       "<text text-anchor=\"middle\" x=\"170\" y=\"-268.73\" font-family=\"Times New Roman,serif\" font-size=\"14.00\">Normal</text>\n",
       "</g>\n",
       "<!-- μ&#45;&gt;response -->\n",
       "<g id=\"edge2\" class=\"edge\">\n",
       "<title>μ&#45;&gt;response</title>\n",
       "<path fill=\"none\" stroke=\"black\" d=\"M170,-249.79C170,-238.38 170,-225.65 170,-213.63\"/>\n",
       "<polygon fill=\"black\" stroke=\"black\" points=\"173.5,-213.31 170,-203.31 166.5,-213.31 173.5,-213.31\"/>\n",
       "</g>\n",
       "<!-- ϵ -->\n",
       "<g id=\"node5\" class=\"node\">\n",
       "<title>ϵ</title>\n",
       "<ellipse fill=\"none\" stroke=\"black\" cx=\"271\" cy=\"-287.43\" rx=\"41.94\" ry=\"37.45\"/>\n",
       "<text text-anchor=\"middle\" x=\"271\" y=\"-298.73\" font-family=\"Times New Roman,serif\" font-size=\"14.00\">ϵ</text>\n",
       "<text text-anchor=\"middle\" x=\"271\" y=\"-283.73\" font-family=\"Times New Roman,serif\" font-size=\"14.00\">~</text>\n",
       "<text text-anchor=\"middle\" x=\"271\" y=\"-268.73\" font-family=\"Times New Roman,serif\" font-size=\"14.00\">Normal</text>\n",
       "</g>\n",
       "<!-- ϵ&#45;&gt;response -->\n",
       "<g id=\"edge4\" class=\"edge\">\n",
       "<title>ϵ&#45;&gt;response</title>\n",
       "<path fill=\"none\" stroke=\"black\" d=\"M250.67,-254.6C242.8,-243.02 233.43,-230.05 224,-218.95 218.88,-212.93 213.17,-206.82 207.43,-201.01\"/>\n",
       "<polygon fill=\"black\" stroke=\"black\" points=\"209.75,-198.38 200.18,-193.83 204.82,-203.35 209.75,-198.38\"/>\n",
       "</g>\n",
       "</g>\n",
       "</svg>\n"
      ],
      "text/plain": [
       "<graphviz.graphs.Digraph at 0x15474efc700>"
      ]
     },
     "execution_count": 60,
     "metadata": {},
     "output_type": "execute_result"
    }
   ],
   "source": [
    "pm.model_to_graphviz(walle)"
   ]
  },
  {
   "cell_type": "code",
   "execution_count": 57,
   "id": "8a7623a9-b7b3-404e-a4f1-b5d17ec860e4",
   "metadata": {},
   "outputs": [
    {
     "name": "stderr",
     "output_type": "stream",
     "text": [
      "Auto-assigning NUTS sampler...\n",
      "Initializing NUTS using jitter+adapt_diag...\n"
     ]
    },
    {
     "ename": "SamplingError",
     "evalue": "Initial evaluation of model at starting point failed!\nStarting values:\n{'μ': array([-0.88016349, -0.8986088 , -0.86845637,  0.13884633, -0.11916455,\n       -0.85707462,  0.02751156, -0.52788908, -0.92032607,  0.60198203,\n        0.67734856, -0.7607615 , -0.22662946,  0.08448424,  0.5118256 ,\n       -0.73362906, -0.91062513,  0.36293248,  0.50992732,  0.46269648,\n       -0.15478118, -0.04441708,  0.8997429 , -0.345673  ,  0.06258732,\n       -0.37103885,  0.3786831 ,  0.32299115,  0.06013851,  0.05111996,\n        0.74784612,  0.43833709,  0.46012189,  0.83741429,  0.38650987,\n       -0.7223326 ,  0.59212802,  0.72839211,  0.77703693,  0.29584159,\n       -0.84400143,  0.74722667, -0.39419154,  0.64128756, -0.16000688,\n        0.0192536 , -0.30877069,  0.90746229, -0.83563368, -0.50645694,\n       -0.47877706,  0.69154333, -0.36638404]), 'ϵ': array(0.58357251)}\n\nInitial evaluation results:\n{'μ': -170.83, 'ϵ': -3.22, 'response': nan}",
     "output_type": "error",
     "traceback": [
      "\u001b[1;31m---------------------------------------------------------------------------\u001b[0m",
      "\u001b[1;31mSamplingError\u001b[0m                             Traceback (most recent call last)",
      "Input \u001b[1;32mIn [61]\u001b[0m, in \u001b[0;36m<cell line: 1>\u001b[1;34m()\u001b[0m\n\u001b[0;32m      1\u001b[0m \u001b[38;5;28;01mwith\u001b[39;00m walle:\n\u001b[1;32m----> 2\u001b[0m     walleTrace \u001b[38;5;241m=\u001b[39m \u001b[43mpm\u001b[49m\u001b[38;5;241;43m.\u001b[39;49m\u001b[43msample\u001b[49m\u001b[43m(\u001b[49m\n\u001b[0;32m      3\u001b[0m \u001b[43m        \u001b[49m\u001b[43mdraws\u001b[49m\u001b[38;5;241;43m=\u001b[39;49m\u001b[38;5;241;43m1000\u001b[39;49m\u001b[43m,\u001b[49m\n\u001b[0;32m      4\u001b[0m \u001b[43m        \u001b[49m\u001b[43mtune\u001b[49m\u001b[38;5;241;43m=\u001b[39;49m\u001b[38;5;241;43m2000\u001b[39;49m\u001b[43m,\u001b[49m\n\u001b[0;32m      5\u001b[0m \u001b[43m        \u001b[49m\u001b[43midata_kwargs\u001b[49m\u001b[38;5;241;43m=\u001b[39;49m\u001b[43m{\u001b[49m\u001b[38;5;124;43m\"\u001b[39;49m\u001b[38;5;124;43mlog_likelihood\u001b[39;49m\u001b[38;5;124;43m\"\u001b[39;49m\u001b[43m:\u001b[49m\u001b[43m \u001b[49m\u001b[38;5;28;43;01mTrue\u001b[39;49;00m\u001b[43m}\u001b[49m\u001b[43m,\u001b[49m\n\u001b[0;32m      6\u001b[0m \u001b[43m        \u001b[49m\u001b[43mreturn_inferencedata\u001b[49m\u001b[38;5;241;43m=\u001b[39;49m\u001b[38;5;28;43;01mTrue\u001b[39;49;00m\n\u001b[0;32m      7\u001b[0m \u001b[43m    \u001b[49m\u001b[43m)\u001b[49m\n",
      "File \u001b[1;32m~\\Miniconda3\\envs\\pymc_env\\lib\\site-packages\\pymc\\sampling.py:565\u001b[0m, in \u001b[0;36msample\u001b[1;34m(draws, step, init, n_init, initvals, trace, chain_idx, chains, cores, tune, progressbar, model, random_seed, discard_tuned_samples, compute_convergence_checks, callback, jitter_max_retries, return_inferencedata, idata_kwargs, mp_ctx, **kwargs)\u001b[0m\n\u001b[0;32m    563\u001b[0m \u001b[38;5;66;03m# One final check that shapes and logps at the starting points are okay.\u001b[39;00m\n\u001b[0;32m    564\u001b[0m \u001b[38;5;28;01mfor\u001b[39;00m ip \u001b[38;5;129;01min\u001b[39;00m initial_points:\n\u001b[1;32m--> 565\u001b[0m     \u001b[43mmodel\u001b[49m\u001b[38;5;241;43m.\u001b[39;49m\u001b[43mcheck_start_vals\u001b[49m\u001b[43m(\u001b[49m\u001b[43mip\u001b[49m\u001b[43m)\u001b[49m\n\u001b[0;32m    566\u001b[0m     _check_start_shape(model, ip)\n\u001b[0;32m    568\u001b[0m sample_args \u001b[38;5;241m=\u001b[39m {\n\u001b[0;32m    569\u001b[0m     \u001b[38;5;124m\"\u001b[39m\u001b[38;5;124mdraws\u001b[39m\u001b[38;5;124m\"\u001b[39m: draws,\n\u001b[0;32m    570\u001b[0m     \u001b[38;5;124m\"\u001b[39m\u001b[38;5;124mstep\u001b[39m\u001b[38;5;124m\"\u001b[39m: step,\n\u001b[1;32m   (...)\u001b[0m\n\u001b[0;32m    580\u001b[0m     \u001b[38;5;124m\"\u001b[39m\u001b[38;5;124mdiscard_tuned_samples\u001b[39m\u001b[38;5;124m\"\u001b[39m: discard_tuned_samples,\n\u001b[0;32m    581\u001b[0m }\n",
      "File \u001b[1;32m~\\Miniconda3\\envs\\pymc_env\\lib\\site-packages\\pymc\\model.py:1794\u001b[0m, in \u001b[0;36mModel.check_start_vals\u001b[1;34m(self, start)\u001b[0m\n\u001b[0;32m   1791\u001b[0m initial_eval \u001b[38;5;241m=\u001b[39m \u001b[38;5;28mself\u001b[39m\u001b[38;5;241m.\u001b[39mpoint_logps(point\u001b[38;5;241m=\u001b[39melem)\n\u001b[0;32m   1793\u001b[0m \u001b[38;5;28;01mif\u001b[39;00m \u001b[38;5;129;01mnot\u001b[39;00m \u001b[38;5;28mall\u001b[39m(np\u001b[38;5;241m.\u001b[39misfinite(v) \u001b[38;5;28;01mfor\u001b[39;00m v \u001b[38;5;129;01min\u001b[39;00m initial_eval\u001b[38;5;241m.\u001b[39mvalues()):\n\u001b[1;32m-> 1794\u001b[0m     \u001b[38;5;28;01mraise\u001b[39;00m SamplingError(\n\u001b[0;32m   1795\u001b[0m         \u001b[38;5;124m\"\u001b[39m\u001b[38;5;124mInitial evaluation of model at starting point failed!\u001b[39m\u001b[38;5;130;01m\\n\u001b[39;00m\u001b[38;5;124m\"\u001b[39m\n\u001b[0;32m   1796\u001b[0m         \u001b[38;5;124mf\u001b[39m\u001b[38;5;124m\"\u001b[39m\u001b[38;5;124mStarting values:\u001b[39m\u001b[38;5;130;01m\\n\u001b[39;00m\u001b[38;5;132;01m{\u001b[39;00melem\u001b[38;5;132;01m}\u001b[39;00m\u001b[38;5;130;01m\\n\u001b[39;00m\u001b[38;5;130;01m\\n\u001b[39;00m\u001b[38;5;124m\"\u001b[39m\n\u001b[0;32m   1797\u001b[0m         \u001b[38;5;124mf\u001b[39m\u001b[38;5;124m\"\u001b[39m\u001b[38;5;124mInitial evaluation results:\u001b[39m\u001b[38;5;130;01m\\n\u001b[39;00m\u001b[38;5;132;01m{\u001b[39;00minitial_eval\u001b[38;5;132;01m}\u001b[39;00m\u001b[38;5;124m\"\u001b[39m\n\u001b[0;32m   1798\u001b[0m     )\n",
      "\u001b[1;31mSamplingError\u001b[0m: Initial evaluation of model at starting point failed!\nStarting values:\n{'μ': array([-0.88016349, -0.8986088 , -0.86845637,  0.13884633, -0.11916455,\n       -0.85707462,  0.02751156, -0.52788908, -0.92032607,  0.60198203,\n        0.67734856, -0.7607615 , -0.22662946,  0.08448424,  0.5118256 ,\n       -0.73362906, -0.91062513,  0.36293248,  0.50992732,  0.46269648,\n       -0.15478118, -0.04441708,  0.8997429 , -0.345673  ,  0.06258732,\n       -0.37103885,  0.3786831 ,  0.32299115,  0.06013851,  0.05111996,\n        0.74784612,  0.43833709,  0.46012189,  0.83741429,  0.38650987,\n       -0.7223326 ,  0.59212802,  0.72839211,  0.77703693,  0.29584159,\n       -0.84400143,  0.74722667, -0.39419154,  0.64128756, -0.16000688,\n        0.0192536 , -0.30877069,  0.90746229, -0.83563368, -0.50645694,\n       -0.47877706,  0.69154333, -0.36638404]), 'ϵ': array(0.58357251)}\n\nInitial evaluation results:\n{'μ': -170.83, 'ϵ': -3.22, 'response': nan}"
     ]
    }
   ],
   "source": [
    "with walle:\n",
    "    walleTrace = pm.sample(\n",
    "        draws=1000,\n",
    "        tune=2000,\n",
    "        idata_kwargs={\"log_likelihood\": True},\n",
    "        return_inferencedata=True\n",
    "    )"
   ]
  },
  {
   "cell_type": "code",
   "execution_count": null,
   "id": "6e6b944a-cc22-4e9b-bdbf-8f938a2a778a",
   "metadata": {},
   "outputs": [],
   "source": []
  }
 ],
 "metadata": {
  "kernelspec": {
   "display_name": "pymc_env",
   "language": "python",
   "name": "pymc_env"
  },
  "language_info": {
   "codemirror_mode": {
    "name": "ipython",
    "version": 3
   },
   "file_extension": ".py",
   "mimetype": "text/x-python",
   "name": "python",
   "nbconvert_exporter": "python",
   "pygments_lexer": "ipython3",
   "version": "3.10.5"
  }
 },
 "nbformat": 4,
 "nbformat_minor": 5
}
